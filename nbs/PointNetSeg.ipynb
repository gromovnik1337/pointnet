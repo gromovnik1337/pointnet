{
 "cells": [
  {
   "cell_type": "markdown",
   "metadata": {
    "colab_type": "text",
    "id": "view-in-github"
   },
   "source": [
    "<a href=\"https://colab.research.google.com/github/nikitakaraevv/pointnet/blob/master/PointNetSeg.ipynb\" target=\"_parent\"><img src=\"https://colab.research.google.com/assets/colab-badge.svg\" alt=\"Open In Colab\"/></a>"
   ]
  },
  {
   "cell_type": "code",
   "execution_count": null,
   "metadata": {
    "colab": {
     "base_uri": "https://localhost:8080/",
     "height": 35
    },
    "colab_type": "code",
    "id": "KuEIVQsJGUbQ",
    "outputId": "ff151e25-a584-4c7a-bb2b-634acedd0952"
   },
   "outputs": [],
   "source": [
    "from google.colab import drive\n",
    "drive.mount('/content/gdrive', force_remount=True)\n",
    "root_dir = \"/content/gdrive/My Drive/PointNet3D\"\n"
   ]
  },
  {
   "cell_type": "code",
   "execution_count": null,
   "metadata": {
    "colab": {
     "base_uri": "https://localhost:8080/",
     "height": 124
    },
    "colab_type": "code",
    "id": "PLGjzwFkGUbV",
    "outputId": "a19df6db-1edd-4c03-8c1a-3e549eaf08de"
   },
   "outputs": [],
   "source": [
    "!pip install path.py;\n",
    "from path import Path\n",
    "import sys\n",
    "sys.path.append(root_dir)"
   ]
  },
  {
   "cell_type": "code",
   "execution_count": null,
   "metadata": {
    "colab": {},
    "colab_type": "code",
    "id": "LB7sxVUtGUbY"
   },
   "outputs": [],
   "source": [
    "import plotly.graph_objects as go\n",
    "import numpy as np\n",
    "import scipy.spatial.distance\n",
    "import math\n",
    "import random\n",
    "import utils\n",
    "\n",
    "\n",
    "class10_dir = \"/datasets/ModelNet10txt/ModelNet10/ModelNet10/\""
   ]
  },
  {
   "cell_type": "code",
   "execution_count": null,
   "metadata": {
    "colab": {},
    "colab_type": "code",
    "id": "31PRdnvMOjLd"
   },
   "outputs": [],
   "source": [
    "import random\n",
    "\n",
    "def read_pts(file):\n",
    "    verts = np.genfromtxt(file)\n",
    "    return utils.cent_norm(verts)\n",
    "    #return verts\n",
    "\n",
    "def read_seg(file):\n",
    "    verts = np.genfromtxt(file, dtype= (int))\n",
    "    return verts\n",
    "\n",
    "def sample_2000(pts, pts_cat):    \n",
    "    res1 = np.concatenate((pts,np.reshape(pts_cat, (pts_cat.shape[0], 1))), axis= 1)\n",
    "    res = np.asarray(random.choices(res1, weights=None, cum_weights=None, k=2000))\n",
    "    images = res[:, 0:3]\n",
    "    categories = res[:, 3]\n",
    "    categories-=np.ones(categories.shape)\n",
    "    return images, categories"
   ]
  },
  {
   "cell_type": "markdown",
   "metadata": {
    "colab_type": "text",
    "id": "4KNH5UtbWWok"
   },
   "source": [
    "## Model"
   ]
  },
  {
   "cell_type": "code",
   "execution_count": null,
   "metadata": {
    "colab": {},
    "colab_type": "code",
    "id": "yOOrEYSnWV7f"
   },
   "outputs": [],
   "source": [
    "import torch\n",
    "import torch.nn as nn\n",
    "import numpy as np\n",
    "import torch.nn.functional as F\n",
    "\n",
    "class Tnet(nn.Module):\n",
    "   def __init__(self, k=3):\n",
    "      super().__init__()\n",
    "      self.k=k\n",
    "      self.conv1 = nn.Conv1d(k,64,1)\n",
    "      self.conv2 = nn.Conv1d(64,128,1)\n",
    "      self.conv3 = nn.Conv1d(128,1024,1)\n",
    "      self.fc1 = nn.Linear(1024,512)\n",
    "      self.fc2 = nn.Linear(512,256)\n",
    "      self.fc3 = nn.Linear(256,k*k)\n",
    "\n",
    "      self.bn1 = nn.BatchNorm1d(64)\n",
    "      self.bn2 = nn.BatchNorm1d(128)\n",
    "      self.bn3 = nn.BatchNorm1d(1024)\n",
    "      self.bn4 = nn.BatchNorm1d(512)\n",
    "      self.bn5 = nn.BatchNorm1d(256)\n",
    "       \n",
    "\n",
    "   def forward(self, input):\n",
    "      # input.shape == (bs,n,3)\n",
    "      bs = input.size(0)\n",
    "      xb = F.relu(self.bn1(self.conv1(input)))\n",
    "      xb = F.relu(self.bn2(self.conv2(xb)))\n",
    "      xb = F.relu(self.bn3(self.conv3(xb)))\n",
    "      pool = nn.MaxPool1d(xb.size(-1))(xb)\n",
    "      flat = nn.Flatten(1)(pool)\n",
    "      xb = F.relu(self.bn4(self.fc1(flat)))\n",
    "      xb = F.relu(self.bn5(self.fc2(xb)))\n",
    "      \n",
    "      #initialize as identity\n",
    "      init = torch.eye(self.k, requires_grad=True).repeat(bs,1,1)\n",
    "      if xb.is_cuda:\n",
    "        init=init.cuda()\n",
    "      matrix = self.fc3(xb).view(-1,self.k,self.k) + init\n",
    "      return matrix\n",
    "\n",
    "\n",
    "class Transform(nn.Module):\n",
    "   def __init__(self):\n",
    "        super().__init__()\n",
    "        self.input_transform = Tnet(k=3)\n",
    "        self.feature_transform = Tnet(k=128)\n",
    "        self.fc1 = nn.Conv1d(3,64,1)\n",
    "        self.fc2 = nn.Conv1d(64,128,1) \n",
    "        self.fc3 = nn.Conv1d(128,128,1)\n",
    "        self.fc4 = nn.Conv1d(128,512,1)\n",
    "        self.fc5 = nn.Conv1d(512,2048,1)\n",
    "\n",
    "        \n",
    "        self.bn1 = nn.BatchNorm1d(64)\n",
    "        self.bn2 = nn.BatchNorm1d(128)\n",
    "        self.bn3 = nn.BatchNorm1d(128)\n",
    "        self.bn4 = nn.BatchNorm1d(512)\n",
    "        self.bn5 = nn.BatchNorm1d(2048)\n",
    "\n",
    "   def forward(self, input):\n",
    "        n_pts = input.size()[2]\n",
    "        matrix3x3 = self.input_transform(input)\n",
    "        xb = torch.bmm(torch.transpose(input,1,2), matrix3x3).transpose(1,2)\n",
    "        outs = []\n",
    "        \n",
    "        out1 = F.relu(self.bn1(self.fc1(xb)))\n",
    "        outs.append(out1)\n",
    "        out2 = F.relu(self.bn2(self.fc2(out1)))\n",
    "        outs.append(out2)\n",
    "        out3 = F.relu(self.bn3(self.fc3(out2)))\n",
    "        outs.append(out3)\n",
    "        matrix128x128 = self.feature_transform(out3)\n",
    "        \n",
    "        out4 = torch.bmm(torch.transpose(out3,1,2), matrix128x128).transpose(1,2) \n",
    "        outs.append(out4)\n",
    "        out5 = F.relu(self.bn4(self.fc4(out4)))\n",
    "        outs.append(out5)\n",
    "       \n",
    "        xb = self.bn5(self.fc5(out5))\n",
    "        \n",
    "        xb = nn.MaxPool1d(xb.size(-1))(xb)\n",
    "        out6 = nn.Flatten(1)(xb).repeat(n_pts,1,1).transpose(0,2).transpose(0,1)#.repeat(1, 1, n_pts)\n",
    "        outs.append(out6)\n",
    "        \n",
    "        \n",
    "        return outs, matrix3x3, matrix128x128\n",
    "\n",
    "\n",
    "class PointNetSeg(nn.Module):\n",
    "    def __init__(self, classes = 10):\n",
    "        super().__init__()\n",
    "        self.transform = Transform()\n",
    "\n",
    "        self.fc1 = nn.Conv1d(3008,256,1) \n",
    "        self.fc2 = nn.Conv1d(256,256,1) \n",
    "        self.fc3 = nn.Conv1d(256,128,1) \n",
    "        self.fc4 = nn.Conv1d(128,4,1) \n",
    "        \n",
    "\n",
    "        self.bn1 = nn.BatchNorm1d(256)\n",
    "        self.bn2 = nn.BatchNorm1d(256)\n",
    "        \n",
    "        self.bn3 = nn.BatchNorm1d(128)\n",
    "        self.bn4 = nn.BatchNorm1d(4)\n",
    "        \n",
    "        self.logsoftmax = nn.LogSoftmax(dim=1)\n",
    "        \n",
    "\n",
    "    def forward(self, input):\n",
    "        inputs, matrix3x3, matrix128x128 = self.transform(input)\n",
    "        stack = torch.cat(inputs,1)\n",
    "        \n",
    "        xb = F.relu(self.bn1(self.fc1(stack)))\n",
    "       \n",
    "        xb = F.relu(self.bn2(self.fc2(xb)))\n",
    "    \n",
    "        xb = F.relu(self.bn3(self.fc3(xb)))\n",
    "        \n",
    "        output = F.relu(self.bn4(self.fc4(xb)))\n",
    "        \n",
    "        return self.logsoftmax(output), matrix3x3, matrix128x128\n",
    "\n"
   ]
  },
  {
   "cell_type": "markdown",
   "metadata": {
    "colab_type": "text",
    "id": "HdXchtFBWZYG"
   },
   "source": [
    "## Dataset"
   ]
  },
  {
   "cell_type": "code",
   "execution_count": null,
   "metadata": {
    "colab": {},
    "colab_type": "code",
    "id": "ut50_1uQCFCc"
   },
   "outputs": [],
   "source": [
    "from __future__ import print_function, division\n",
    "import os\n",
    "import torch\n",
    "import pandas as pd\n",
    "from skimage import io, transform\n",
    "import numpy as np\n",
    "import matplotlib.pyplot as plt\n",
    "from torch.utils.data import Dataset, DataLoader\n",
    "from torchvision import transforms, utils\n",
    "from torch.utils.data.dataset import random_split\n",
    "import utils\n",
    "\n",
    "class Data(Dataset):\n",
    "    \"\"\"Face Landmarks dataset.\"\"\"\n",
    "\n",
    "    def __init__(self, root_dir, valid=False, transform=None):\n",
    "        \n",
    "        self.root_dir = root_dir\n",
    "        self.files = []\n",
    "        self.valid=valid\n",
    "\n",
    "        newdir = root_dir + '/datasets/airplane_part_seg/02691156/expert_verified/points_label/'\n",
    "\n",
    "        for file in os.listdir(newdir):\n",
    "            o = {}\n",
    "            o['category'] = newdir + file\n",
    "            o['img_path'] = root_dir + '/datasets/airplane_part_seg/02691156/points/'+ file.replace('.seg', '.pts')\n",
    "            self.files.append(o)\n",
    "       \n",
    "\n",
    "    def __len__(self):\n",
    "        return len(self.files)\n",
    "\n",
    "    def __getitem__(self, idx):\n",
    "        img_path = self.files[idx]['img_path']\n",
    "        category = self.files[idx]['category']\n",
    "        with open(img_path, 'r') as f:\n",
    "            image1 = read_pts(f)\n",
    "        with open(category, 'r') as f:  \n",
    "            category1 = read_seg(f)\n",
    "        image2, category2 = sample_2000(image1, category1)\n",
    "        if not self.valid:\n",
    "            theta = random.random()*360\n",
    "            image2 = utils.rotation_z(utils.add_noise(image2), theta)\n",
    "        \n",
    "        return {'image': np.array(image2, dtype=\"float32\"), 'category': category2.astype(int)}\n"
   ]
  },
  {
   "cell_type": "code",
   "execution_count": null,
   "metadata": {
    "colab": {
     "base_uri": "https://localhost:8080/",
     "height": 69
    },
    "colab_type": "code",
    "id": "1mUcFS3Uwci6",
    "outputId": "4d10dda0-7c73-4007-ce71-de106f2a32a6"
   },
   "outputs": [],
   "source": [
    "\n",
    "dset = Data(root_dir , transform=None)\n",
    "train_num = int(len(dset) * 0.95)\n",
    "val_num = int(len(dset) *0.05)\n",
    "if int(len(dset)) - train_num -  val_num >0 :\n",
    "    train_num = train_num + 1\n",
    "elif int(len(dset)) - train_num -  val_num < 0:\n",
    "    train_num = train_num -1\n",
    "#train_dataset, val_dataset = random_split(dset, [3000, 118])\n",
    "train_dataset, val_dataset = random_split(dset, [train_num, val_num])\n",
    "val_dataset.valid=True\n",
    "\n",
    "print('######### Dataset class created #########')\n",
    "print('Number of images: ', len(dset))\n",
    "print('Sample image shape: ', dset[0]['image'].shape)\n",
    "#print('Sample image points categories', dset[0]['category'], end='\\n\\n')\n",
    "\n",
    "train_loader = DataLoader(dataset=train_dataset, batch_size=64)\n",
    "val_loader = DataLoader(dataset=val_dataset, batch_size=64)\n",
    "\n",
    "#dataloader = torch.utils.data.DataLoader(dset, batch_size=4, shuffle=True, num_workers=4)"
   ]
  },
  {
   "cell_type": "markdown",
   "metadata": {
    "colab_type": "text",
    "id": "gg9RjG7awgVK"
   },
   "source": [
    "## Training loop"
   ]
  },
  {
   "cell_type": "code",
   "execution_count": null,
   "metadata": {
    "colab": {
     "base_uri": "https://localhost:8080/",
     "height": 35
    },
    "colab_type": "code",
    "id": "bq9AUuN5WRxI",
    "outputId": "a6c2e5eb-ee77-4f4e-f511-77acffab30fa"
   },
   "outputs": [],
   "source": [
    "device = torch.device(\"cuda:0\" if torch.cuda.is_available() else \"cpu\")\n",
    "print(device)"
   ]
  },
  {
   "cell_type": "code",
   "execution_count": null,
   "metadata": {
    "colab": {},
    "colab_type": "code",
    "id": "cqXW9-oJwEPm"
   },
   "outputs": [],
   "source": [
    "pointnet = PointNetSeg()"
   ]
  },
  {
   "cell_type": "code",
   "execution_count": null,
   "metadata": {
    "colab": {},
    "colab_type": "code",
    "id": "6mA80v2ywHhw"
   },
   "outputs": [],
   "source": [
    "pointnet.to(device);"
   ]
  },
  {
   "cell_type": "code",
   "execution_count": null,
   "metadata": {
    "colab": {},
    "colab_type": "code",
    "id": "JV09EA4_wJnR"
   },
   "outputs": [],
   "source": [
    "optimizer = torch.optim.Adam(pointnet.parameters(), lr=0.001)"
   ]
  },
  {
   "cell_type": "code",
   "execution_count": null,
   "metadata": {
    "colab": {},
    "colab_type": "code",
    "id": "aDb9rPb_wPWj"
   },
   "outputs": [],
   "source": [
    "def pointnetloss(outputs, labels, m3x3, m128x128, alpha = 0.0001):\n",
    "    criterion = torch.nn.NLLLoss()\n",
    "    bs=outputs.size(0)\n",
    "    id3x3 = torch.eye(3, requires_grad=True).repeat(bs,1,1)\n",
    "    id128x128 = torch.eye(128, requires_grad=True).repeat(bs,1,1)\n",
    "    if outputs.is_cuda:\n",
    "        id3x3=id3x3.cuda()\n",
    "        id128x128=id128x128.cuda()\n",
    "    diff3x3 = id3x3-torch.bmm(m3x3,m3x3.transpose(1,2))\n",
    "    diff128x128 = id128x128-torch.bmm(m128x128,m128x128.transpose(1,2))\n",
    "    return criterion(outputs, labels) + alpha * (torch.norm(diff3x3)+torch.norm(diff128x128)) / float(bs)\n",
    "        "
   ]
  },
  {
   "cell_type": "code",
   "execution_count": null,
   "metadata": {
    "colab": {},
    "colab_type": "code",
    "id": "CgaPisZFwVzh"
   },
   "outputs": [],
   "source": [
    "def train(model, train_loader, val_loader=None,  epochs=15, save=True):\n",
    "    for epoch in range(epochs): \n",
    "        pointnet.train()\n",
    "        running_loss = 0.0\n",
    "        for i, data in enumerate(train_loader, 0):\n",
    "            inputs, labels = data['image'].to(device), data['category'].to(device)\n",
    "            optimizer.zero_grad()\n",
    "            outputs, m3x3, m64x64 = pointnet(inputs.transpose(1,2))\n",
    "\n",
    "            loss = pointnetloss(outputs, labels, m3x3, m64x64)\n",
    "            loss.backward()\n",
    "            optimizer.step()\n",
    "\n",
    "            # print statistics\n",
    "            running_loss += loss.item()\n",
    "            if i % 10 == 9:    # print every 10 mini-batches\n",
    "                    print('[%d, %5d] loss: %.3f' %\n",
    "                        (epoch + 1, i + 1, running_loss / 10))\n",
    "                    running_loss = 0.0\n",
    "\n",
    "        pointnet.eval()\n",
    "        correct = total = 0\n",
    "\n",
    "        # validation\n",
    "        if val_loader:\n",
    "            with torch.no_grad():\n",
    "                for data in val_loader:\n",
    "                    inputs, labels = data['image'].to(device), data['category'].to(device)\n",
    "                    outputs, __, __ = pointnet(inputs.transpose(1,2))\n",
    "                    _, predicted = torch.max(outputs.data, 1)\n",
    "                    total += labels.size(0) * labels.size(1) ##\n",
    "                    correct += (predicted == labels).sum().item()\n",
    "            val_acc = 100 * correct / total\n",
    "            print('Valid accuracy: %d %%' % val_acc)\n",
    "\n",
    "        # save the model\n",
    "        if save:\n",
    "            torch.save(pointnet.state_dict(), root_dir+\"/modelsSeg/\"+str(epoch)+\"_\"+str(val_acc))\n"
   ]
  },
  {
   "cell_type": "code",
   "execution_count": null,
   "metadata": {
    "colab": {
     "base_uri": "https://localhost:8080/",
     "height": 1000
    },
    "colab_type": "code",
    "id": "3jjVYFmSv9lu",
    "outputId": "0c443233-6750-4382-b790-333ac78dcf98"
   },
   "outputs": [],
   "source": [
    "train(pointnet, train_loader, val_loader,  save=True)\n"
   ]
  },
  {
   "cell_type": "markdown",
   "metadata": {
    "colab_type": "text",
    "id": "VeUZqen5GlKr"
   },
   "source": [
    "## test"
   ]
  },
  {
   "cell_type": "markdown",
   "metadata": {
    "colab_type": "text",
    "id": "mbBNmdqgGj5-"
   },
   "source": []
  },
  {
   "cell_type": "code",
   "execution_count": null,
   "metadata": {
    "colab": {
     "base_uri": "https://localhost:8080/",
     "height": 867
    },
    "colab_type": "code",
    "id": "Xsk9nSDAI3ba",
    "outputId": "4467b734-e3db-4d48-dce3-b7f269cbaed5"
   },
   "outputs": [],
   "source": [
    "pointnet = PointNetSeg()\n",
    "pointnet.load_state_dict(torch.load(root_dir+\"/modelsSeg/\"+\"14_88.01940298507462\"))\n",
    "pointnet.eval()"
   ]
  },
  {
   "cell_type": "code",
   "execution_count": null,
   "metadata": {
    "colab": {
     "base_uri": "https://localhost:8080/",
     "height": 139
    },
    "colab_type": "code",
    "id": "zoE5fRX8GnWR",
    "outputId": "901bdfb2-0445-4497-e772-e2f482b98f12"
   },
   "outputs": [],
   "source": [
    "batch = next(iter(val_loader))\n",
    "pred = pointnet(batch['image'].transpose(1,2))\n",
    "pred_np = np.array(torch.argmax(pred[0],1));\n",
    "pred_np\n",
    "\n"
   ]
  },
  {
   "cell_type": "code",
   "execution_count": null,
   "metadata": {
    "colab": {
     "base_uri": "https://localhost:8080/",
     "height": 35
    },
    "colab_type": "code",
    "id": "3ISvwR4RL_eT",
    "outputId": "9695bbd3-e74c-41a1-9846-ad438f413a2f"
   },
   "outputs": [],
   "source": [
    "batch['image'][0].shape"
   ]
  },
  {
   "cell_type": "code",
   "execution_count": null,
   "metadata": {
    "colab": {
     "base_uri": "https://localhost:8080/",
     "height": 139
    },
    "colab_type": "code",
    "id": "MQXXGh3GJSRf",
    "outputId": "23c684cc-7a4f-467b-a8c6-e916bae70107"
   },
   "outputs": [],
   "source": [
    "pred_np==np.array(batch['category'])"
   ]
  },
  {
   "cell_type": "code",
   "execution_count": null,
   "metadata": {
    "colab": {},
    "colab_type": "code",
    "id": "60Mr2Bp7O9xu"
   },
   "outputs": [],
   "source": [
    "acc = (pred_np==np.array(batch['category']))"
   ]
  },
  {
   "cell_type": "code",
   "execution_count": null,
   "metadata": {
    "colab": {},
    "colab_type": "code",
    "id": "Jc1jLPj-PBo-"
   },
   "outputs": [],
   "source": [
    "resulting_acc = np.sum(acc, axis=1) / 2000"
   ]
  },
  {
   "cell_type": "code",
   "execution_count": null,
   "metadata": {
    "colab": {
     "base_uri": "https://localhost:8080/",
     "height": 156
    },
    "colab_type": "code",
    "id": "w8NwSbbz8jQ-",
    "outputId": "eba05278-cf1a-425b-8462-7684e7a50101"
   },
   "outputs": [],
   "source": [
    "resulting_acc"
   ]
  },
  {
   "cell_type": "code",
   "execution_count": null,
   "metadata": {
    "colab": {
     "base_uri": "https://localhost:8080/",
     "height": 139
    },
    "colab_type": "code",
    "id": "nnt7vxPHKamU",
    "outputId": "1ab89e1a-d06d-47c3-dcae-2876e5c6d605"
   },
   "outputs": [],
   "source": [
    "pred_np"
   ]
  },
  {
   "cell_type": "code",
   "execution_count": null,
   "metadata": {
    "colab": {
     "base_uri": "https://localhost:8080/"
    },
    "colab_type": "code",
    "id": "N9bgpbtnHC2E",
    "outputId": "394d29a3-8cc0-4ee7-d480-edd452a0d1ce"
   },
   "outputs": [],
   "source": [
    "x,y,z=np.array(batch['image'][0]).T\n",
    "c = np.array(batch['category'][0]).T\n",
    "\n",
    "fig = go.Figure(data=[go.Scatter3d(x=x, y=y, z=z, \n",
    "                                   mode='markers',\n",
    "                                   marker=dict(\n",
    "        size=30,\n",
    "        color=c,                # set color to an array/list of desired values\n",
    "        colorscale='Viridis',   # choose a colorscale\n",
    "        opacity=1.0\n",
    "    ))])\n",
    "fig.update_traces(marker=dict(size=2,\n",
    "                              line=dict(width=2,\n",
    "                                        color='DarkSlateGrey')),\n",
    "                  selector=dict(mode='markers'))\n",
    "fig.show()"
   ]
  }
 ],
 "metadata": {
  "accelerator": "GPU",
  "colab": {
   "collapsed_sections": [
    "caWQIszA8r-H"
   ],
   "include_colab_link": true,
   "machine_shape": "hm",
   "name": "PointNetSeg.ipynb",
   "provenance": []
  },
  "kernelspec": {
   "display_name": "Python 3 (ipykernel)",
   "language": "python",
   "name": "python3"
  },
  "language_info": {
   "codemirror_mode": {
    "name": "ipython",
    "version": 3
   },
   "file_extension": ".py",
   "mimetype": "text/x-python",
   "name": "python",
   "nbconvert_exporter": "python",
   "pygments_lexer": "ipython3",
   "version": "3.8.10"
  }
 },
 "nbformat": 4,
 "nbformat_minor": 1
}
